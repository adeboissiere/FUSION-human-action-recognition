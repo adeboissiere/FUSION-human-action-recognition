{
 "cells": [
  {
   "cell_type": "markdown",
   "metadata": {},
   "source": [
    "This Jupyter notebook is a simple walkthrough on how to get started as quickly as possible with a trained FUSION model. \n",
    "\n",
    "## 1. Opening model"
   ]
  },
  {
   "cell_type": "code",
   "execution_count": 1,
   "metadata": {},
   "outputs": [],
   "source": [
    "import os\n",
    "\n",
    "# Import FUSION model and prime_X_fusion function\n",
    "from src.models.pose_ir_fusion import *\n",
    "# Import \"device\" and \"classes\" variables\n",
    "from src.models.utils import *"
   ]
  },
  {
   "cell_type": "markdown",
   "metadata": {},
   "source": [
    "### 1.1. Global variables\n",
    "\n",
    "- **model_folder**: location of .pt model\n",
    "- **use_pose**: Include pose module\n",
    "- **use_ir**: Include IR module"
   ]
  },
  {
   "cell_type": "code",
   "execution_count": 2,
   "metadata": {},
   "outputs": [],
   "source": [
    "# Global variables\n",
    "model_folder = os.getcwd() + '/../' \\\n",
    "                           + 'models/' \\\n",
    "                           + 'fusion_test_tube_seed=0/' \\\n",
    "                           + 'fusion_20/' \\\n",
    "                           + 'cross_subject/' \\\n",
    "                           + 'aug=True/' \n",
    "model_file = 'model12.pt'\n",
    "use_pose = True\n",
    "use_ir = True\n"
   ]
  },
  {
   "cell_type": "markdown",
   "metadata": {},
   "source": [
    "### 1.2. Create FUSION model"
   ]
  },
  {
   "cell_type": "code",
   "execution_count": 3,
   "metadata": {},
   "outputs": [],
   "source": [
    "model = FUSION(use_pose, use_ir, pretrained = False)"
   ]
  },
  {
   "cell_type": "markdown",
   "metadata": {},
   "source": [
    "### 1.3. Load trained weights"
   ]
  },
  {
   "cell_type": "code",
   "execution_count": 4,
   "metadata": {},
   "outputs": [],
   "source": [
    "model.load_state_dict(torch.load(model_folder + model_file))\n",
    "None"
   ]
  },
  {
   "cell_type": "markdown",
   "metadata": {},
   "source": [
    "### 1.4. Push to device and set to evaluation mode"
   ]
  },
  {
   "cell_type": "code",
   "execution_count": 5,
   "metadata": {},
   "outputs": [],
   "source": [
    "model.to(device)\n",
    "model.eval()\n",
    "None"
   ]
  },
  {
   "cell_type": "markdown",
   "metadata": {},
   "source": [
    "## 2. Model inference\n",
    "\n",
    "- **batch_size**: The model can study different sequences at a time\n",
    "- **seq_len**: From a full sequence, sample *seq_len* frames from *seq_len* evenly spaced subwindows (see paper)"
   ]
  },
  {
   "cell_type": "code",
   "execution_count": 6,
   "metadata": {},
   "outputs": [],
   "source": [
    "# Global variables\n",
    "batch_size = 1\n",
    "seq_len = 20"
   ]
  },
  {
   "cell_type": "markdown",
   "metadata": {},
   "source": [
    "### 2.1. Create random tensor\n",
    "\n",
    "In a real-life scenario, *X_skeleton* and *X_ir* should have pixel values in the [0, 255] range."
   ]
  },
  {
   "cell_type": "code",
   "execution_count": 7,
   "metadata": {},
   "outputs": [],
   "source": [
    "X_skeleton = torch.rand(batch_size, 3, 224, 224)\n",
    "X_ir = torch.rand(batch_size, seq_len, 3, 112, 112)\n",
    "\n",
    "X = [X_skeleton, X_ir]"
   ]
  },
  {
   "cell_type": "markdown",
   "metadata": {},
   "source": [
    "### 2.2. Prime input tensor \n",
    "\n",
    "Priming the input tensor includes the normalization steps, reshaping and pushing on *device*. "
   ]
  },
  {
   "cell_type": "code",
   "execution_count": 8,
   "metadata": {},
   "outputs": [],
   "source": [
    "X_primed = prime_X_fusion(X, use_pose, use_ir)"
   ]
  },
  {
   "cell_type": "markdown",
   "metadata": {},
   "source": [
    "### 2.3. Forward pass on model (inference)"
   ]
  },
  {
   "cell_type": "code",
   "execution_count": 9,
   "metadata": {},
   "outputs": [],
   "source": [
    "predictions = model(X_primed)"
   ]
  },
  {
   "cell_type": "code",
   "execution_count": 10,
   "metadata": {},
   "outputs": [
    {
     "name": "stdout",
     "output_type": "stream",
     "text": [
      "Class predicted : walk toward other\n"
     ]
    }
   ],
   "source": [
    "_, class_predicted = predictions.max(1)\n",
    "print(\"Class predicted : \" + classes[class_predicted.item()])"
   ]
  }
 ],
 "metadata": {
  "kernelspec": {
   "display_name": "Python 3",
   "language": "python",
   "name": "python3"
  },
  "language_info": {
   "codemirror_mode": {
    "name": "ipython",
    "version": 3
   },
   "file_extension": ".py",
   "mimetype": "text/x-python",
   "name": "python",
   "nbconvert_exporter": "python",
   "pygments_lexer": "ipython3",
   "version": "3.6.9"
  }
 },
 "nbformat": 4,
 "nbformat_minor": 2
}
